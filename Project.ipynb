{
  "nbformat": 4,
  "nbformat_minor": 0,
  "metadata": {
    "colab": {
      "provenance": [],
      "collapsed_sections": [],
      "authorship_tag": "ABX9TyMBI2dmAF4t4Chpaqw/r6Nj",
      "include_colab_link": true
    },
    "kernelspec": {
      "name": "python3",
      "display_name": "Python 3"
    },
    "language_info": {
      "name": "python"
    }
  },
  "cells": [
    {
      "cell_type": "markdown",
      "metadata": {
        "id": "view-in-github",
        "colab_type": "text"
      },
      "source": [
        "<a href=\"https://colab.research.google.com/github/Sneha1b/CSC-510-SE/blob/main/Project.ipynb\" target=\"_parent\"><img src=\"https://colab.research.google.com/assets/colab-badge.svg\" alt=\"Open In Colab\"/></a>"
      ]
    },
    {
      "cell_type": "code",
      "execution_count": null,
      "metadata": {
        "id": "zXOgB7NJrn34"
      },
      "outputs": [],
      "source": [
        "# Loading the kaggle dataset into google collab\n",
        "! pip install kaggle\n",
        "! mkdir ~/.kaggle\n",
        "! cp sample_data/kaggle.json ~/.kaggle/\n",
        "! chmod 600 ~/.kaggle/kaggle.json\n",
        "! kaggle datasets download mostafaabla/garbage-classification\n",
        "! unzip garbage-classification"
      ]
    },
    {
      "cell_type": "code",
      "source": [
        "# Loading the dataset into memory\n",
        "import os\n",
        "import glob\n",
        "from skimage import io\n",
        "import numpy as np\n",
        "import random\n",
        "from skimage.transform import resize\n",
        "\n",
        "DATASET_PATH = '/content/garbage_classification/'\n",
        "\n",
        "garbage_cls = ['battery', 'biological','brown-glass', 'cardboard','clothes','green-glass','metal','paper','plastic','shoes','trash','white-glass']\n",
        "\n",
        "data = []\n",
        "labels = []\n",
        "cnt = 0\n",
        "image_size = (150,150)\n",
        "data_final = np.empty((150*150,3), dtype=float)\n",
        "for cls in garbage_cls:\n",
        "  data = []\n",
        "  class_count = 0\n",
        "  garbage_path = os.path.join(DATASET_PATH, cls, '*')\n",
        "  garbage_path = glob.glob(garbage_path)\n",
        "  for path in garbage_path:\n",
        "    image = resize(io.imread(path), image_size)\n",
        "    if(len(image.shape) <= 2):\n",
        "      print(\"lost\")\n",
        "      continue\n",
        "    class_count += 1\n",
        "    image = np.linalg.norm(np.reshape(image, (150*150,3)))\n",
        "    data.append(image)\n",
        "    labels.append(cnt)\n",
        "    if(class_count == 700 or (cls == 'battery' and class_count == 650)):\n",
        "      break\n",
        "  np.append(data_final, np.asarray(data))\n",
        "  print(\"Class count for\", cls, class_count)\n",
        "  cnt += 1\n",
        "\n",
        "labels = np.asarray(labels)\n",
        "temp = list(zip(data_final, labels))\n",
        "random.shuffle(temp)\n",
        "data_final, labels = zip(*temp)\n"
      ],
      "metadata": {
        "id": "gq4kIi6-EKwP"
      },
      "execution_count": null,
      "outputs": []
    },
    {
      "cell_type": "code",
      "source": [
        "# Creating labels\n",
        "from sklearn.preprocessing import LabelEncoder\n",
        "import tensorflow as tf\n",
        "\n",
        "classes = []\n",
        "numClasses = 12\n",
        "\n",
        "label_encoder = LabelEncoder()\n",
        "classes = label_encoder.fit_transform(garbage_cls)\n",
        "classes = tf.keras.utils.to_categorical(classes, num_classes=numClasses)\n",
        "classes = tf.constant(classes, shape=[numClasses, numClasses])"
      ],
      "metadata": {
        "id": "mX0s79diFJMl"
      },
      "execution_count": 33,
      "outputs": []
    },
    {
      "cell_type": "code",
      "source": [
        "from sklearn.model_selection import train_test_split\n",
        "\n",
        "#splitting to train and test\n",
        "X_train, X_test, y_train, y_test = train_test_split(data_final, labels, test_size=0.2, random_state=1)\n",
        "\n",
        "#splitting to train and validation\n",
        "X_train, X_val, y_train, y_val = train_test_split(X_train, y_train, test_size=0.125, random_state=1)"
      ],
      "metadata": {
        "id": "-TudnOnwD-bs"
      },
      "execution_count": 34,
      "outputs": []
    },
    {
      "cell_type": "code",
      "source": [
        "from sklearn.ensemble import RandomForestClassifier\n",
        "rf = RandomForestClassifier(n_estimators = 50, random_state = 1)\n",
        "rf.fit(X_train,y_train)"
      ],
      "metadata": {
        "id": "uyHZI4WaGLcL",
        "colab": {
          "base_uri": "https://localhost:8080/"
        },
        "outputId": "13ff1031-1558-40e6-af0f-8e49cb385e63"
      },
      "execution_count": 35,
      "outputs": [
        {
          "output_type": "execute_result",
          "data": {
            "text/plain": [
              "RandomForestClassifier(n_estimators=50, random_state=1)"
            ]
          },
          "metadata": {},
          "execution_count": 35
        }
      ]
    },
    {
      "cell_type": "code",
      "source": [
        "from sklearn import metrics\n",
        "from sklearn.metrics import classification_report, confusion_matrix\n",
        "\n",
        "y_val_pred = rf.predict(X_val)\n",
        "\n",
        "print (\"Confusion Report\")\n",
        "print(confusion_matrix(y_val, y_val_pred))\n",
        "\n",
        "y_val_pred=rf.predict(X_val)\n",
        "print(\"validation accuracy:\",metrics.accuracy_score(y_val_pred,y_val))\n",
        "\n",
        "y_test_pred=rf.predict(X_test)\n",
        "print(\"testing accuracy:\",metrics.accuracy_score(y_test,y_test_pred))"
      ],
      "metadata": {
        "id": "5CL4QSEfGP_k",
        "colab": {
          "base_uri": "https://localhost:8080/"
        },
        "outputId": "7f61ebc7-8b43-4f9c-abd6-01871c2e9604"
      },
      "execution_count": 36,
      "outputs": [
        {
          "output_type": "stream",
          "name": "stdout",
          "text": [
            "Confusion Report\n",
            "[[40 13  3  4  2  0  4  2  0  2  0  1]\n",
            " [12 20 10  8  6  4  2  3  3  4  0  0]\n",
            " [ 4 14 22  5  3  1  4  4  1  1  1  2]\n",
            " [ 6  7 10 28 10  1  2  0  3  1  1  4]\n",
            " [ 0  1  4 21 24 12  6  3  6  3  0  2]\n",
            " [ 1  2  0  4 11 17 17  0  2  3  0  3]\n",
            " [ 2  2  3  3  2 12 17  5  5  3  2  1]\n",
            " [ 1  2  6  2  3  3  9 27  8  7  1  2]\n",
            " [ 3  4  5  1  3  2  6  6 28  4  3  2]\n",
            " [ 1  3  2  3  0  1  5  5  4 24 12 10]\n",
            " [ 2  2  2  3  1  1  4  2  3 17 18  6]\n",
            " [ 2  2  0  1  1  0  4  1  1  8 19 31]]\n",
            "validation accuracy: 0.3627450980392157\n",
            "testing accuracy: 0.37193627450980393\n"
          ]
        }
      ]
    },
    {
      "cell_type": "code",
      "source": [
        "from sklearn.ensemble import RandomForestClassifier\n",
        "rf = RandomForestClassifier(n_estimators = 100, max_depth=25, random_state = 1)\n",
        "rf.fit(X_train,y_train)"
      ],
      "metadata": {
        "colab": {
          "base_uri": "https://localhost:8080/"
        },
        "id": "ufuRvspySZgn",
        "outputId": "89924297-547d-42b7-da3f-267766af0925"
      },
      "execution_count": 49,
      "outputs": [
        {
          "output_type": "execute_result",
          "data": {
            "text/plain": [
              "RandomForestClassifier(max_depth=25, random_state=1)"
            ]
          },
          "metadata": {},
          "execution_count": 49
        }
      ]
    },
    {
      "cell_type": "code",
      "source": [
        "from sklearn import metrics\n",
        "from sklearn.metrics import classification_report, confusion_matrix\n",
        "\n",
        "y_val_pred = rf.predict(X_val)\n",
        "\n",
        "print (\"Confusion Report\")\n",
        "print(confusion_matrix(y_val, y_val_pred))\n",
        "\n",
        "y_val_pred=rf.predict(X_val)\n",
        "print(\"validation accuracy:\",metrics.accuracy_score(y_val_pred,y_val))\n",
        "\n",
        "y_test_pred=rf.predict(X_test)\n",
        "print(\"testing accuracy:\",metrics.accuracy_score(y_test,y_test_pred))"
      ],
      "metadata": {
        "colab": {
          "base_uri": "https://localhost:8080/"
        },
        "id": "dPj8YE4OSeei",
        "outputId": "a66be824-9a07-47d9-85a5-561d24afdb19"
      },
      "execution_count": 50,
      "outputs": [
        {
          "output_type": "stream",
          "name": "stdout",
          "text": [
            "Confusion Report\n",
            "[[43 14  4  3  1  0  1  1  1  2  0  1]\n",
            " [12 20 10  8  6  4  2  4  3  3  0  0]\n",
            " [ 3 16 22  5  3  1  4  3  1  1  1  2]\n",
            " [ 5  6 12 30 10  0  3  0  2  1  1  3]\n",
            " [ 0  1  3 23 23 13  6  2  4  4  1  2]\n",
            " [ 1  2  1  3 11 19 17  1  2  2  0  1]\n",
            " [ 2  2  2  4  2 12 17  6  3  3  1  3]\n",
            " [ 1  2  7  1  2  3 10 27  8  8  0  2]\n",
            " [ 3  3  6  0  2  2  5  8 29  5  2  2]\n",
            " [ 3  2  2  4  0  0  3  4  4 27 11 10]\n",
            " [ 3  1  3  3  1  1  3  2  3 15 17  9]\n",
            " [ 3  2  0  1  0  0  4  2  1  8 18 31]]\n",
            "validation accuracy: 0.3737745098039216\n",
            "testing accuracy: 0.3786764705882353\n"
          ]
        }
      ]
    },
    {
      "cell_type": "code",
      "source": [
        "from sklearn.ensemble import RandomForestClassifier\n",
        "rf = RandomForestClassifier(n_estimators = 500, random_state = 1)\n",
        "rf.fit(X_train,y_train)"
      ],
      "metadata": {
        "colab": {
          "base_uri": "https://localhost:8080/"
        },
        "id": "uDl_844zSibr",
        "outputId": "b579b45c-3da1-40d9-ef5e-dade836b5813"
      },
      "execution_count": 39,
      "outputs": [
        {
          "output_type": "execute_result",
          "data": {
            "text/plain": [
              "RandomForestClassifier(n_estimators=500, random_state=1)"
            ]
          },
          "metadata": {},
          "execution_count": 39
        }
      ]
    },
    {
      "cell_type": "code",
      "source": [
        "from sklearn import metrics\n",
        "from sklearn.metrics import classification_report, confusion_matrix\n",
        "\n",
        "y_val_pred = rf.predict(X_val)\n",
        "\n",
        "print (\"Confusion Report\")\n",
        "print(confusion_matrix(y_val, y_val_pred))\n",
        "\n",
        "y_val_pred=rf.predict(X_val)\n",
        "print(\"validation accuracy:\",metrics.accuracy_score(y_val_pred,y_val))\n",
        "\n",
        "y_test_pred=rf.predict(X_test)\n",
        "print(\"testing accuracy:\",metrics.accuracy_score(y_test,y_test_pred))"
      ],
      "metadata": {
        "colab": {
          "base_uri": "https://localhost:8080/"
        },
        "id": "AI2CvH0MSlAA",
        "outputId": "37c30fc6-69b7-4d3e-bb0b-59537901d761"
      },
      "execution_count": 40,
      "outputs": [
        {
          "output_type": "stream",
          "name": "stdout",
          "text": [
            "Confusion Report\n",
            "[[44 14  3  3  1  0  1  2  0  2  0  1]\n",
            " [13 21 11  7  6  4  0  3  3  4  0  0]\n",
            " [ 2 15 22  4  3  1  4  3  2  1  2  3]\n",
            " [ 4  6  9 32 11  1  2  0  3  1  1  3]\n",
            " [ 0  1  3 23 21 17  5  2  4  3  1  2]\n",
            " [ 1  2  0  4 11 18 18  1  1  2  0  2]\n",
            " [ 2  2  1  4  2 12 17  6  3  5  1  2]\n",
            " [ 0  3  7  2  2  3  9 26  5 11  0  3]\n",
            " [ 3  3  6  1  2  2  5  7 30  3  2  3]\n",
            " [ 3  3  2  3  1  1  3  4  5 25 10 10]\n",
            " [ 4  1  2  3  1  1  4  2  2 16 16  9]\n",
            " [ 2  2  0  1  0  1  3  1  1  8 17 34]]\n",
            "validation accuracy: 0.375\n",
            "testing accuracy: 0.3762254901960784\n"
          ]
        }
      ]
    },
    {
      "cell_type": "code",
      "source": [
        "rf = RandomForestClassifier(n_estimators = 1000,max_depth=25,random_state=1)\n",
        "rf.fit(X_train,y_train)"
      ],
      "metadata": {
        "colab": {
          "base_uri": "https://localhost:8080/"
        },
        "id": "2acOATBESouB",
        "outputId": "eebb0314-22b6-4a74-f706-1b861c56de65"
      },
      "execution_count": 51,
      "outputs": [
        {
          "output_type": "execute_result",
          "data": {
            "text/plain": [
              "RandomForestClassifier(max_depth=25, n_estimators=1000, random_state=1)"
            ]
          },
          "metadata": {},
          "execution_count": 51
        }
      ]
    },
    {
      "cell_type": "code",
      "source": [
        "from sklearn import metrics\n",
        "from sklearn.metrics import classification_report, confusion_matrix\n",
        "\n",
        "y_val_pred = rf.predict(X_val)\n",
        "\n",
        "print (\"Confusion Report\")\n",
        "print(confusion_matrix(y_val, y_val_pred))\n",
        "\n",
        "y_val_pred=rf.predict(X_val)\n",
        "print(\"validation accuracy:\",metrics.accuracy_score(y_val_pred,y_val))\n",
        "\n",
        "y_test_pred=rf.predict(X_test)\n",
        "print(\"testing accuracy:\",metrics.accuracy_score(y_test,y_test_pred))"
      ],
      "metadata": {
        "colab": {
          "base_uri": "https://localhost:8080/"
        },
        "id": "7t7MMI7hStUS",
        "outputId": "0e741c1f-b6ef-4488-bb63-fda401e4faa5"
      },
      "execution_count": 52,
      "outputs": [
        {
          "output_type": "stream",
          "name": "stdout",
          "text": [
            "Confusion Report\n",
            "[[42 14  3  4  1  0  2  1  1  2  0  1]\n",
            " [12 20 11  8  6  4  2  3  3  3  0  0]\n",
            " [ 3 15 21  4  4  1  3  3  2  1  2  3]\n",
            " [ 5  5  9 32 10  1  3  0  2  1  1  4]\n",
            " [ 0  1  3 21 23 16  5  2  5  4  0  2]\n",
            " [ 1  2  0  4  9 19 18  1  1  3  0  2]\n",
            " [ 2  2  1  4  2 12 16  6  3  5  1  3]\n",
            " [ 1  2  8  2  2  3  9 26  4 11  1  2]\n",
            " [ 3  3  6  1  2  2  6  6 30  4  2  2]\n",
            " [ 2  2  2  3  1  0  5  4  5 26 10 10]\n",
            " [ 3  2  3  3  2  1  3  2  2 17 15  8]\n",
            " [ 2  2  0  1  0  1  3  1  1  8 18 33]]\n",
            "validation accuracy: 0.3713235294117647\n",
            "testing accuracy: 0.37683823529411764\n"
          ]
        }
      ]
    },
    {
      "cell_type": "code",
      "source": [
        "rf = RandomForestClassifier(n_estimators = 750,max_depth=25,max_features='sqrt',random_state=1)\n",
        "rf.fit(X_train,y_train)"
      ],
      "metadata": {
        "colab": {
          "base_uri": "https://localhost:8080/"
        },
        "id": "5eVTnWh2Sxhj",
        "outputId": "03afd914-d66c-4b45-a3ba-cadbcce115e3"
      },
      "execution_count": 53,
      "outputs": [
        {
          "output_type": "execute_result",
          "data": {
            "text/plain": [
              "RandomForestClassifier(max_depth=25, max_features='sqrt', n_estimators=750,\n",
              "                       random_state=1)"
            ]
          },
          "metadata": {},
          "execution_count": 53
        }
      ]
    },
    {
      "cell_type": "code",
      "source": [
        "from sklearn import metrics\n",
        "from sklearn.metrics import classification_report, confusion_matrix\n",
        "\n",
        "y_val_pred = rf.predict(X_val)\n",
        "\n",
        "print (\"Confusion Report\")\n",
        "print(confusion_matrix(y_val, y_val_pred))\n",
        "\n",
        "y_val_pred=rf.predict(X_val)\n",
        "print(\"validation accuracy:\",metrics.accuracy_score(y_val_pred,y_val))\n",
        "\n",
        "y_test_pred=rf.predict(X_test)\n",
        "print(\"testing accuracy:\",metrics.accuracy_score(y_test,y_test_pred))"
      ],
      "metadata": {
        "colab": {
          "base_uri": "https://localhost:8080/"
        },
        "id": "_HVgng8eSzYT",
        "outputId": "737ecd27-5ef4-408b-ee9c-99f2e1b168ac"
      },
      "execution_count": 54,
      "outputs": [
        {
          "output_type": "stream",
          "name": "stdout",
          "text": [
            "Confusion Report\n",
            "[[42 14  3  4  1  0  2  1  1  2  0  1]\n",
            " [13 20 11  8  6  4  1  3  3  3  0  0]\n",
            " [ 2 16 22  4  4  1  3  3  2  1  1  3]\n",
            " [ 4  5  9 32 11  1  2  0  3  1  1  4]\n",
            " [ 0  1  3 23 22 15  5  2  4  4  1  2]\n",
            " [ 1  2  0  4 10 19 18  1  1  2  0  2]\n",
            " [ 2  2  1  4  2 12 16  6  3  5  1  3]\n",
            " [ 1  2  8  2  2  3  9 26  4 11  1  2]\n",
            " [ 3  3  6  1  2  2  6  6 30  4  2  2]\n",
            " [ 2  2  2  3  1  0  5  4  5 26 10 10]\n",
            " [ 3  2  2  3  1  1  4  2  2 17 16  8]\n",
            " [ 2  2  0  1  0  0  3  2  1  8 18 33]]\n",
            "validation accuracy: 0.37254901960784315\n",
            "testing accuracy: 0.3756127450980392\n"
          ]
        }
      ]
    },
    {
      "cell_type": "code",
      "source": [
        "rf = RandomForestClassifier(n_estimators = 750,max_depth=25,max_features='log2',random_state=1)\n",
        "rf.fit(X_train,y_train)"
      ],
      "metadata": {
        "colab": {
          "base_uri": "https://localhost:8080/"
        },
        "id": "7U-XqsoPS5Hg",
        "outputId": "37dcbe09-5233-42b1-d6cd-a7b30e454000"
      },
      "execution_count": 55,
      "outputs": [
        {
          "output_type": "execute_result",
          "data": {
            "text/plain": [
              "RandomForestClassifier(max_depth=25, max_features='log2', n_estimators=750,\n",
              "                       random_state=1)"
            ]
          },
          "metadata": {},
          "execution_count": 55
        }
      ]
    },
    {
      "cell_type": "code",
      "source": [
        "from sklearn import metrics\n",
        "from sklearn.metrics import classification_report, confusion_matrix\n",
        "\n",
        "y_val_pred = rf.predict(X_val)\n",
        "\n",
        "print (\"Confusion Report\")\n",
        "print(confusion_matrix(y_val, y_val_pred))\n",
        "\n",
        "y_val_pred=rf.predict(X_val)\n",
        "print(\"validation accuracy:\",metrics.accuracy_score(y_val_pred,y_val))\n",
        "\n",
        "y_test_pred=rf.predict(X_test)\n",
        "print(\"testing accuracy:\",metrics.accuracy_score(y_test,y_test_pred))"
      ],
      "metadata": {
        "colab": {
          "base_uri": "https://localhost:8080/"
        },
        "id": "edsfoHccS6qc",
        "outputId": "5789674c-e757-4a12-8bf6-9099865a8dfc"
      },
      "execution_count": 56,
      "outputs": [
        {
          "output_type": "stream",
          "name": "stdout",
          "text": [
            "Confusion Report\n",
            "[[42 14  3  4  1  0  2  1  1  2  0  1]\n",
            " [13 20 11  8  6  4  1  3  3  3  0  0]\n",
            " [ 2 16 22  4  4  1  3  3  2  1  1  3]\n",
            " [ 4  5  9 32 11  1  2  0  3  1  1  4]\n",
            " [ 0  1  3 23 22 15  5  2  4  4  1  2]\n",
            " [ 1  2  0  4 10 19 18  1  1  2  0  2]\n",
            " [ 2  2  1  4  2 12 16  6  3  5  1  3]\n",
            " [ 1  2  8  2  2  3  9 26  4 11  1  2]\n",
            " [ 3  3  6  1  2  2  6  6 30  4  2  2]\n",
            " [ 2  2  2  3  1  0  5  4  5 26 10 10]\n",
            " [ 3  2  2  3  1  1  4  2  2 17 16  8]\n",
            " [ 2  2  0  1  0  0  3  2  1  8 18 33]]\n",
            "validation accuracy: 0.37254901960784315\n",
            "testing accuracy: 0.3756127450980392\n"
          ]
        }
      ]
    }
  ]
}